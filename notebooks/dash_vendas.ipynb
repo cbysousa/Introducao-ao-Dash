{
  "nbformat": 4,
  "nbformat_minor": 0,
  "metadata": {
    "colab": {
      "provenance": [],
      "authorship_tag": "ABX9TyNyUIm8GyErxcJKtQm+Gx2K",
      "include_colab_link": true
    },
    "kernelspec": {
      "name": "python3",
      "display_name": "Python 3"
    },
    "language_info": {
      "name": "python"
    }
  },
  "cells": [
    {
      "cell_type": "markdown",
      "metadata": {
        "id": "view-in-github",
        "colab_type": "text"
      },
      "source": [
        "<a href=\"https://colab.research.google.com/github/cbysousa/introducing-dash/blob/main/notebooks/dash_vendas.ipynb\" target=\"_parent\"><img src=\"https://colab.research.google.com/assets/colab-badge.svg\" alt=\"Open In Colab\"/></a>"
      ]
    },
    {
      "cell_type": "code",
      "source": [
        "!pip install dash"
      ],
      "metadata": {
        "id": "zulzKQBx-uio"
      },
      "execution_count": null,
      "outputs": []
    },
    {
      "cell_type": "code",
      "source": [
        "from dash import Dash, html, dcc, Input, Output #dash core components\n",
        "import plotly.express as px\n",
        "import pandas as pd\n",
        "\n",
        "app = Dash(__name__)\n",
        "\n",
        "df = pd.read_excel('vendas.xlsx')\n",
        "\n",
        "fig = px.bar(df, x=\"Produto\", y=\"Quantidade\", color=\"ID Loja\", barmode=\"group\")\n",
        "opcoes = list(df['ID Loja'].unique())\n",
        "opcoes.append('Todas as Lojas')\n",
        "\n",
        "app.layout = html.Div(children=[\n",
        "    html.H1(children='Faturamento das lojas'),\n",
        "    html.H2(children='Gráfico com o faturamento de todos os produtos separados por loja'),\n",
        "    html.Div(children='''\n",
        "        Obs: Esse gráfico mostra a quantidade de produtos vendidos, não o faturamento.\n",
        "    '''),\n",
        "    dcc.Dropdown(opcoes, value='Todas as Lojas', id='lista_lojas'),\n",
        "\n",
        "    dcc.Graph(\n",
        "        id='grafico_qtd_vendas',\n",
        "        figure=fig\n",
        "    )\n",
        "])\n",
        "\n",
        "@app.callback(\n",
        "    Output('grafico_qtd_vendas', 'figure'), #quem vai ser modificado\n",
        "    Input('lista_lojas', 'value') #quem seleciona o valor\n",
        ")\n",
        "def update_output(value):\n",
        "  if value == 'Todas as Lojas':\n",
        "    fig = px.bar(df, x=\"Produto\", y=\"Quantidade\", color=\"ID Loja\", barmode=\"group\")\n",
        "  else:\n",
        "    tabela_filtrada = df.loc[df['ID Loja']==value, :] #seleciona todas as linhas onde o valor é igual ao selecionado.\n",
        "    fig = px.bar(tabela_filtrada, x=\"Produto\", y=\"Quantidade\", color=\"ID Loja\", barmode=\"group\")\n",
        "  return fig\n",
        "\n",
        "if __name__ == '__main__':\n",
        "    app.run_server(debug=True)"
      ],
      "metadata": {
        "colab": {
          "base_uri": "https://localhost:8080/",
          "height": 671
        },
        "id": "TymQkEW7-99s",
        "outputId": "a2ff4b1d-8c07-4fcb-e8c3-e67f7fedccc4"
      },
      "execution_count": 29,
      "outputs": [
        {
          "output_type": "display_data",
          "data": {
            "text/plain": [
              "<IPython.core.display.Javascript object>"
            ],
            "application/javascript": [
              "(async (port, path, width, height, cache, element) => {\n",
              "    if (!google.colab.kernel.accessAllowed && !cache) {\n",
              "      return;\n",
              "    }\n",
              "    element.appendChild(document.createTextNode(''));\n",
              "    const url = await google.colab.kernel.proxyPort(port, {cache});\n",
              "    const iframe = document.createElement('iframe');\n",
              "    iframe.src = new URL(path, url).toString();\n",
              "    iframe.height = height;\n",
              "    iframe.width = width;\n",
              "    iframe.style.border = 0;\n",
              "    iframe.allow = [\n",
              "        'accelerometer',\n",
              "        'autoplay',\n",
              "        'camera',\n",
              "        'clipboard-read',\n",
              "        'clipboard-write',\n",
              "        'gyroscope',\n",
              "        'magnetometer',\n",
              "        'microphone',\n",
              "        'serial',\n",
              "        'usb',\n",
              "        'xr-spatial-tracking',\n",
              "    ].join('; ');\n",
              "    element.appendChild(iframe);\n",
              "  })(8050, \"/\", \"100%\", 650, false, window.element)"
            ]
          },
          "metadata": {}
        }
      ]
    }
  ]
}